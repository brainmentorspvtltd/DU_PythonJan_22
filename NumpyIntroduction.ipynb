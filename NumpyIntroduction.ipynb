{
  "nbformat": 4,
  "nbformat_minor": 0,
  "metadata": {
    "colab": {
      "name": "NumpyIntroduction.ipynb",
      "provenance": [],
      "collapsed_sections": []
    },
    "kernelspec": {
      "name": "python3",
      "display_name": "Python 3"
    },
    "language_info": {
      "name": "python"
    }
  },
  "cells": [
    {
      "cell_type": "code",
      "execution_count": 1,
      "metadata": {
        "id": "6ZD8wKddzeu2"
      },
      "outputs": [],
      "source": [
        "# Array - Collection of similar type of data\n",
        "import numpy as np"
      ]
    },
    {
      "cell_type": "code",
      "source": [
        "np.array([4,5,7,6,3,4,7,8,8])"
      ],
      "metadata": {
        "colab": {
          "base_uri": "https://localhost:8080/"
        },
        "id": "6xnAEDWKz3r_",
        "outputId": "34c74967-27c2-433f-cb49-c8290b88bde4"
      },
      "execution_count": 2,
      "outputs": [
        {
          "output_type": "execute_result",
          "data": {
            "text/plain": [
              "array([4, 5, 7, 6, 3, 4, 7, 8, 8])"
            ]
          },
          "metadata": {},
          "execution_count": 2
        }
      ]
    },
    {
      "cell_type": "code",
      "source": [
        "np.array([1,3,4,5,7,45.6,34.5])"
      ],
      "metadata": {
        "colab": {
          "base_uri": "https://localhost:8080/"
        },
        "id": "dJaO_t35z-ms",
        "outputId": "96862d4b-31a9-4fcf-9517-63975778a022"
      },
      "execution_count": 3,
      "outputs": [
        {
          "output_type": "execute_result",
          "data": {
            "text/plain": [
              "array([ 1. ,  3. ,  4. ,  5. ,  7. , 45.6, 34.5])"
            ]
          },
          "metadata": {},
          "execution_count": 3
        }
      ]
    },
    {
      "cell_type": "code",
      "source": [
        "np.array([1,3,4,5,7,45.6,34.5, True, 45])"
      ],
      "metadata": {
        "colab": {
          "base_uri": "https://localhost:8080/"
        },
        "id": "fjDI-Gvi0WSW",
        "outputId": "79004836-e955-4adc-8db1-e21ad55fb872"
      },
      "execution_count": 4,
      "outputs": [
        {
          "output_type": "execute_result",
          "data": {
            "text/plain": [
              "array([ 1. ,  3. ,  4. ,  5. ,  7. , 45.6, 34.5,  1. , 45. ])"
            ]
          },
          "metadata": {},
          "execution_count": 4
        }
      ]
    },
    {
      "cell_type": "code",
      "source": [
        "np.zeros(5)"
      ],
      "metadata": {
        "colab": {
          "base_uri": "https://localhost:8080/"
        },
        "id": "lXLGYqWT00Qr",
        "outputId": "cd567cf3-d2c9-447c-85ff-1963903eecc7"
      },
      "execution_count": 5,
      "outputs": [
        {
          "output_type": "execute_result",
          "data": {
            "text/plain": [
              "array([0., 0., 0., 0., 0.])"
            ]
          },
          "metadata": {},
          "execution_count": 5
        }
      ]
    },
    {
      "cell_type": "code",
      "source": [
        "np.zeros([5,5])"
      ],
      "metadata": {
        "colab": {
          "base_uri": "https://localhost:8080/"
        },
        "id": "mgrjNsDd04-x",
        "outputId": "c95ff74f-9b7e-4627-e33d-6ef5b0d911f3"
      },
      "execution_count": 7,
      "outputs": [
        {
          "output_type": "execute_result",
          "data": {
            "text/plain": [
              "array([[0., 0., 0., 0., 0.],\n",
              "       [0., 0., 0., 0., 0.],\n",
              "       [0., 0., 0., 0., 0.],\n",
              "       [0., 0., 0., 0., 0.],\n",
              "       [0., 0., 0., 0., 0.]])"
            ]
          },
          "metadata": {},
          "execution_count": 7
        }
      ]
    },
    {
      "cell_type": "code",
      "source": [
        "np.ones([4,6])"
      ],
      "metadata": {
        "colab": {
          "base_uri": "https://localhost:8080/"
        },
        "id": "cDyQzXqW06V2",
        "outputId": "773203ed-b65b-42b3-ddc4-f2455f806d2b"
      },
      "execution_count": 8,
      "outputs": [
        {
          "output_type": "execute_result",
          "data": {
            "text/plain": [
              "array([[1., 1., 1., 1., 1., 1.],\n",
              "       [1., 1., 1., 1., 1., 1.],\n",
              "       [1., 1., 1., 1., 1., 1.],\n",
              "       [1., 1., 1., 1., 1., 1.]])"
            ]
          },
          "metadata": {},
          "execution_count": 8
        }
      ]
    },
    {
      "cell_type": "code",
      "source": [
        "# will always return a random number between 0 to 1\n",
        "np.random.random()"
      ],
      "metadata": {
        "colab": {
          "base_uri": "https://localhost:8080/"
        },
        "id": "UEKp_hcK09TF",
        "outputId": "033822a4-6308-4559-dd09-37b249223243"
      },
      "execution_count": 9,
      "outputs": [
        {
          "output_type": "execute_result",
          "data": {
            "text/plain": [
              "0.5055509200769908"
            ]
          },
          "metadata": {},
          "execution_count": 9
        }
      ]
    },
    {
      "cell_type": "code",
      "source": [
        "np.random.random(5)"
      ],
      "metadata": {
        "colab": {
          "base_uri": "https://localhost:8080/"
        },
        "id": "WpZ2Ug-_1ARC",
        "outputId": "f1a21530-30e6-4186-c550-11d421be4052"
      },
      "execution_count": 10,
      "outputs": [
        {
          "output_type": "execute_result",
          "data": {
            "text/plain": [
              "array([0.46967663, 0.67317042, 0.83837111, 0.39498807, 0.44327809])"
            ]
          },
          "metadata": {},
          "execution_count": 10
        }
      ]
    },
    {
      "cell_type": "code",
      "source": [
        "np.random.random([4,5])"
      ],
      "metadata": {
        "colab": {
          "base_uri": "https://localhost:8080/"
        },
        "id": "ngmqQKVi1Cl7",
        "outputId": "08f4c027-35bb-4010-9756-8f0877dc1f0f"
      },
      "execution_count": 12,
      "outputs": [
        {
          "output_type": "execute_result",
          "data": {
            "text/plain": [
              "array([[0.63352211, 0.53120837, 0.82508514, 0.71506359, 0.1213978 ],\n",
              "       [0.81951405, 0.38573001, 0.4922672 , 0.77613099, 0.61102063],\n",
              "       [0.60567936, 0.85639655, 0.35172511, 0.97306681, 0.97097491],\n",
              "       [0.81357019, 0.60370736, 0.80874778, 0.04318722, 0.81279184]])"
            ]
          },
          "metadata": {},
          "execution_count": 12
        }
      ]
    },
    {
      "cell_type": "code",
      "source": [
        "np.random.randint(1,100)"
      ],
      "metadata": {
        "colab": {
          "base_uri": "https://localhost:8080/"
        },
        "id": "FNmoHWEz1KKT",
        "outputId": "1c8a0eba-4929-4e06-d1bf-2d125c444c78"
      },
      "execution_count": 13,
      "outputs": [
        {
          "output_type": "execute_result",
          "data": {
            "text/plain": [
              "12"
            ]
          },
          "metadata": {},
          "execution_count": 13
        }
      ]
    },
    {
      "cell_type": "code",
      "source": [
        "np.random.randint(1,100,10)"
      ],
      "metadata": {
        "colab": {
          "base_uri": "https://localhost:8080/"
        },
        "id": "Lh0yoNfl1Q5r",
        "outputId": "087bbc2b-4f44-4869-db51-1290471993a5"
      },
      "execution_count": 14,
      "outputs": [
        {
          "output_type": "execute_result",
          "data": {
            "text/plain": [
              "array([33, 79, 61, 24, 51, 67, 61, 76, 65, 92])"
            ]
          },
          "metadata": {},
          "execution_count": 14
        }
      ]
    },
    {
      "cell_type": "code",
      "source": [
        "np.random.randint(1,100,(4,7))"
      ],
      "metadata": {
        "colab": {
          "base_uri": "https://localhost:8080/"
        },
        "id": "SNoVuFt41T22",
        "outputId": "b6611e6b-f614-43e1-d7e3-253f6127376a"
      },
      "execution_count": 15,
      "outputs": [
        {
          "output_type": "execute_result",
          "data": {
            "text/plain": [
              "array([[92, 53, 80, 31, 56,  6,  1],\n",
              "       [16, 18, 16, 55, 83, 46, 51],\n",
              "       [50, 23, 90, 47, 14,  8, 18],\n",
              "       [35,  8, 84, 45, 68, 36, 66]])"
            ]
          },
          "metadata": {},
          "execution_count": 15
        }
      ]
    },
    {
      "cell_type": "code",
      "source": [
        "x = np.random.randint(1,100,10)"
      ],
      "metadata": {
        "id": "lxUJ1ZIB1XAC"
      },
      "execution_count": 16,
      "outputs": []
    },
    {
      "cell_type": "code",
      "source": [
        "x"
      ],
      "metadata": {
        "colab": {
          "base_uri": "https://localhost:8080/"
        },
        "id": "UAye5GqV1dsH",
        "outputId": "44c2c747-3c0c-46ce-ff13-08c0f5de538a"
      },
      "execution_count": 17,
      "outputs": [
        {
          "output_type": "execute_result",
          "data": {
            "text/plain": [
              "array([30, 61, 41, 17, 58,  1, 53, 89, 82, 64])"
            ]
          },
          "metadata": {},
          "execution_count": 17
        }
      ]
    },
    {
      "cell_type": "code",
      "source": [
        "x[0]"
      ],
      "metadata": {
        "colab": {
          "base_uri": "https://localhost:8080/"
        },
        "id": "qNETXry41d8j",
        "outputId": "390aed1f-3c1e-4892-d47c-63ae96c11281"
      },
      "execution_count": 18,
      "outputs": [
        {
          "output_type": "execute_result",
          "data": {
            "text/plain": [
              "30"
            ]
          },
          "metadata": {},
          "execution_count": 18
        }
      ]
    },
    {
      "cell_type": "code",
      "source": [
        "x[-1]"
      ],
      "metadata": {
        "colab": {
          "base_uri": "https://localhost:8080/"
        },
        "id": "MOAVszM11fHt",
        "outputId": "6e259e06-29d8-4a8a-fe3b-24aa41892367"
      },
      "execution_count": 19,
      "outputs": [
        {
          "output_type": "execute_result",
          "data": {
            "text/plain": [
              "64"
            ]
          },
          "metadata": {},
          "execution_count": 19
        }
      ]
    },
    {
      "cell_type": "code",
      "source": [
        "x[0:6]"
      ],
      "metadata": {
        "colab": {
          "base_uri": "https://localhost:8080/"
        },
        "id": "FE9voses1fgY",
        "outputId": "44ba7a99-a039-4b9c-8716-14c5521c7e01"
      },
      "execution_count": 20,
      "outputs": [
        {
          "output_type": "execute_result",
          "data": {
            "text/plain": [
              "array([30, 61, 41, 17, 58,  1])"
            ]
          },
          "metadata": {},
          "execution_count": 20
        }
      ]
    },
    {
      "cell_type": "code",
      "source": [
        "x = np.random.randint(1,100,(6,7))"
      ],
      "metadata": {
        "id": "F84HLUpm1hIk"
      },
      "execution_count": 21,
      "outputs": []
    },
    {
      "cell_type": "code",
      "source": [
        "x"
      ],
      "metadata": {
        "colab": {
          "base_uri": "https://localhost:8080/"
        },
        "id": "mH85tQhV1lx1",
        "outputId": "52687bb4-f7b1-4233-fc83-f3f96683432f"
      },
      "execution_count": 22,
      "outputs": [
        {
          "output_type": "execute_result",
          "data": {
            "text/plain": [
              "array([[ 8, 56, 53, 50, 11, 71, 40],\n",
              "       [56, 88, 71, 64, 15, 31, 75],\n",
              "       [33, 67, 20, 55, 27, 35, 31],\n",
              "       [30, 77,  3,  2, 17,  3, 17],\n",
              "       [ 2, 38, 23, 48, 43, 99, 63],\n",
              "       [30, 61, 74, 24, 58, 63,  4]])"
            ]
          },
          "metadata": {},
          "execution_count": 22
        }
      ]
    },
    {
      "cell_type": "code",
      "source": [
        "x.shape"
      ],
      "metadata": {
        "colab": {
          "base_uri": "https://localhost:8080/"
        },
        "id": "CqQDQcTD1mZ1",
        "outputId": "209a9213-90e0-4a89-fc8d-084fd28162dc"
      },
      "execution_count": 23,
      "outputs": [
        {
          "output_type": "execute_result",
          "data": {
            "text/plain": [
              "(6, 7)"
            ]
          },
          "metadata": {},
          "execution_count": 23
        }
      ]
    },
    {
      "cell_type": "code",
      "source": [
        "x[0]"
      ],
      "metadata": {
        "colab": {
          "base_uri": "https://localhost:8080/"
        },
        "id": "CaSmpO4x1nmB",
        "outputId": "94a8a053-fee9-47d2-a8bd-dccd57c0004b"
      },
      "execution_count": 24,
      "outputs": [
        {
          "output_type": "execute_result",
          "data": {
            "text/plain": [
              "array([ 8, 56, 53, 50, 11, 71, 40])"
            ]
          },
          "metadata": {},
          "execution_count": 24
        }
      ]
    },
    {
      "cell_type": "code",
      "source": [
        "x[0][0]"
      ],
      "metadata": {
        "colab": {
          "base_uri": "https://localhost:8080/"
        },
        "id": "4TMf3gpX1vS1",
        "outputId": "78699462-3951-4b8a-c4fd-2f188f8609a3"
      },
      "execution_count": 25,
      "outputs": [
        {
          "output_type": "execute_result",
          "data": {
            "text/plain": [
              "8"
            ]
          },
          "metadata": {},
          "execution_count": 25
        }
      ]
    },
    {
      "cell_type": "code",
      "source": [
        "x[0][3]"
      ],
      "metadata": {
        "colab": {
          "base_uri": "https://localhost:8080/"
        },
        "id": "38CDwYdh2BKd",
        "outputId": "77e01b32-f717-4dec-88ac-ac32e353f716"
      },
      "execution_count": 26,
      "outputs": [
        {
          "output_type": "execute_result",
          "data": {
            "text/plain": [
              "50"
            ]
          },
          "metadata": {},
          "execution_count": 26
        }
      ]
    },
    {
      "cell_type": "code",
      "source": [
        "x[:, 0]"
      ],
      "metadata": {
        "colab": {
          "base_uri": "https://localhost:8080/"
        },
        "id": "RGNIx-Xn2DQH",
        "outputId": "cd66569a-8d49-4022-e01c-c3d77e0e967c"
      },
      "execution_count": 27,
      "outputs": [
        {
          "output_type": "execute_result",
          "data": {
            "text/plain": [
              "array([ 8, 56, 33, 30,  2, 30])"
            ]
          },
          "metadata": {},
          "execution_count": 27
        }
      ]
    },
    {
      "cell_type": "code",
      "source": [
        "x[:, 0:3]"
      ],
      "metadata": {
        "colab": {
          "base_uri": "https://localhost:8080/"
        },
        "id": "NwJa9Sju2J4e",
        "outputId": "ab52787e-84f5-4ef3-b483-10a34e356c93"
      },
      "execution_count": 28,
      "outputs": [
        {
          "output_type": "execute_result",
          "data": {
            "text/plain": [
              "array([[ 8, 56, 53],\n",
              "       [56, 88, 71],\n",
              "       [33, 67, 20],\n",
              "       [30, 77,  3],\n",
              "       [ 2, 38, 23],\n",
              "       [30, 61, 74]])"
            ]
          },
          "metadata": {},
          "execution_count": 28
        }
      ]
    },
    {
      "cell_type": "code",
      "source": [
        "x[:, 3:6]"
      ],
      "metadata": {
        "colab": {
          "base_uri": "https://localhost:8080/"
        },
        "id": "RQOrFT6W2dEI",
        "outputId": "629f612e-e8d1-409d-c281-5d490cd8af44"
      },
      "execution_count": 29,
      "outputs": [
        {
          "output_type": "execute_result",
          "data": {
            "text/plain": [
              "array([[50, 11, 71],\n",
              "       [64, 15, 31],\n",
              "       [55, 27, 35],\n",
              "       [ 2, 17,  3],\n",
              "       [48, 43, 99],\n",
              "       [24, 58, 63]])"
            ]
          },
          "metadata": {},
          "execution_count": 29
        }
      ]
    },
    {
      "cell_type": "code",
      "source": [
        "x[0:3,0:3]"
      ],
      "metadata": {
        "colab": {
          "base_uri": "https://localhost:8080/"
        },
        "id": "SIxatEeI2faj",
        "outputId": "57942a90-46cf-4de9-df77-6f90d1ca3444"
      },
      "execution_count": 30,
      "outputs": [
        {
          "output_type": "execute_result",
          "data": {
            "text/plain": [
              "array([[ 8, 56, 53],\n",
              "       [56, 88, 71],\n",
              "       [33, 67, 20]])"
            ]
          },
          "metadata": {},
          "execution_count": 30
        }
      ]
    },
    {
      "cell_type": "code",
      "source": [
        "x[:, [0,3,5]]"
      ],
      "metadata": {
        "colab": {
          "base_uri": "https://localhost:8080/"
        },
        "id": "kuMkSN2f2g5n",
        "outputId": "09733055-bb73-4e2a-b040-30faa4492ea4"
      },
      "execution_count": 31,
      "outputs": [
        {
          "output_type": "execute_result",
          "data": {
            "text/plain": [
              "array([[ 8, 50, 71],\n",
              "       [56, 64, 31],\n",
              "       [33, 55, 35],\n",
              "       [30,  2,  3],\n",
              "       [ 2, 48, 99],\n",
              "       [30, 24, 63]])"
            ]
          },
          "metadata": {},
          "execution_count": 31
        }
      ]
    },
    {
      "cell_type": "code",
      "source": [
        "x.flatten()"
      ],
      "metadata": {
        "colab": {
          "base_uri": "https://localhost:8080/"
        },
        "id": "aOg-pe6p2oSq",
        "outputId": "4dbcf66e-4893-47da-ae60-3e5434b97583"
      },
      "execution_count": 32,
      "outputs": [
        {
          "output_type": "execute_result",
          "data": {
            "text/plain": [
              "array([ 8, 56, 53, 50, 11, 71, 40, 56, 88, 71, 64, 15, 31, 75, 33, 67, 20,\n",
              "       55, 27, 35, 31, 30, 77,  3,  2, 17,  3, 17,  2, 38, 23, 48, 43, 99,\n",
              "       63, 30, 61, 74, 24, 58, 63,  4])"
            ]
          },
          "metadata": {},
          "execution_count": 32
        }
      ]
    },
    {
      "cell_type": "code",
      "source": [
        "y = x.flatten()"
      ],
      "metadata": {
        "id": "B5UWNK2q3cGa"
      },
      "execution_count": 33,
      "outputs": []
    },
    {
      "cell_type": "code",
      "source": [
        "y"
      ],
      "metadata": {
        "colab": {
          "base_uri": "https://localhost:8080/"
        },
        "id": "e4960Kxt3eIn",
        "outputId": "f5ed2304-407b-4119-b126-4e27c560c010"
      },
      "execution_count": 34,
      "outputs": [
        {
          "output_type": "execute_result",
          "data": {
            "text/plain": [
              "array([ 8, 56, 53, 50, 11, 71, 40, 56, 88, 71, 64, 15, 31, 75, 33, 67, 20,\n",
              "       55, 27, 35, 31, 30, 77,  3,  2, 17,  3, 17,  2, 38, 23, 48, 43, 99,\n",
              "       63, 30, 61, 74, 24, 58, 63,  4])"
            ]
          },
          "metadata": {},
          "execution_count": 34
        }
      ]
    },
    {
      "cell_type": "code",
      "source": [
        "np.min(y)"
      ],
      "metadata": {
        "colab": {
          "base_uri": "https://localhost:8080/"
        },
        "id": "0DTl597h3emH",
        "outputId": "31be7a38-6dfa-4c50-8d34-2085b3daee5c"
      },
      "execution_count": 35,
      "outputs": [
        {
          "output_type": "execute_result",
          "data": {
            "text/plain": [
              "2"
            ]
          },
          "metadata": {},
          "execution_count": 35
        }
      ]
    },
    {
      "cell_type": "code",
      "source": [
        "np.max(y)"
      ],
      "metadata": {
        "colab": {
          "base_uri": "https://localhost:8080/"
        },
        "id": "qQSsbHBg3i4E",
        "outputId": "018d61d5-07f1-4685-a844-08bdb3d5d557"
      },
      "execution_count": 36,
      "outputs": [
        {
          "output_type": "execute_result",
          "data": {
            "text/plain": [
              "99"
            ]
          },
          "metadata": {},
          "execution_count": 36
        }
      ]
    },
    {
      "cell_type": "code",
      "source": [
        "np.mean(y)"
      ],
      "metadata": {
        "colab": {
          "base_uri": "https://localhost:8080/"
        },
        "id": "1MJS7Ed43jr7",
        "outputId": "da3995a4-39a9-4d29-d1c9-146e0d1d14b2"
      },
      "execution_count": 37,
      "outputs": [
        {
          "output_type": "execute_result",
          "data": {
            "text/plain": [
              "41.333333333333336"
            ]
          },
          "metadata": {},
          "execution_count": 37
        }
      ]
    },
    {
      "cell_type": "code",
      "source": [
        "np.median(y)"
      ],
      "metadata": {
        "colab": {
          "base_uri": "https://localhost:8080/"
        },
        "id": "cX4kGNFm3lD8",
        "outputId": "8c9c144e-1d38-4400-a713-feee61fe8bf3"
      },
      "execution_count": 39,
      "outputs": [
        {
          "output_type": "execute_result",
          "data": {
            "text/plain": [
              "39.0"
            ]
          },
          "metadata": {},
          "execution_count": 39
        }
      ]
    },
    {
      "cell_type": "code",
      "source": [
        "np.sort(y)"
      ],
      "metadata": {
        "colab": {
          "base_uri": "https://localhost:8080/"
        },
        "id": "9wOd72cm3mCN",
        "outputId": "5750e4d4-82d9-46a3-a982-ca4b4d68d1b5"
      },
      "execution_count": 42,
      "outputs": [
        {
          "output_type": "execute_result",
          "data": {
            "text/plain": [
              "array([ 2,  2,  3,  3,  4,  8, 11, 15, 17, 17, 20, 23, 24, 27, 30, 30, 31,\n",
              "       31, 33, 35, 38, 40, 43, 48, 50, 53, 55, 56, 56, 58, 61, 63, 63, 64,\n",
              "       67, 71, 71, 74, 75, 77, 88, 99])"
            ]
          },
          "metadata": {},
          "execution_count": 42
        }
      ]
    },
    {
      "cell_type": "code",
      "source": [
        "x"
      ],
      "metadata": {
        "colab": {
          "base_uri": "https://localhost:8080/"
        },
        "id": "xdoQpjIt3rRI",
        "outputId": "317a421a-6aa4-47b4-a86a-ebc2c4307e5f"
      },
      "execution_count": 43,
      "outputs": [
        {
          "output_type": "execute_result",
          "data": {
            "text/plain": [
              "array([[ 8, 56, 53, 50, 11, 71, 40],\n",
              "       [56, 88, 71, 64, 15, 31, 75],\n",
              "       [33, 67, 20, 55, 27, 35, 31],\n",
              "       [30, 77,  3,  2, 17,  3, 17],\n",
              "       [ 2, 38, 23, 48, 43, 99, 63],\n",
              "       [30, 61, 74, 24, 58, 63,  4]])"
            ]
          },
          "metadata": {},
          "execution_count": 43
        }
      ]
    },
    {
      "cell_type": "code",
      "source": [
        "np.mean(x)"
      ],
      "metadata": {
        "colab": {
          "base_uri": "https://localhost:8080/"
        },
        "id": "i2Itv2YH36rA",
        "outputId": "a0bfa7a2-d190-4910-8fa1-55488e49cb1c"
      },
      "execution_count": 45,
      "outputs": [
        {
          "output_type": "execute_result",
          "data": {
            "text/plain": [
              "41.333333333333336"
            ]
          },
          "metadata": {},
          "execution_count": 45
        }
      ]
    },
    {
      "cell_type": "code",
      "source": [
        "# minimum value of each column\n",
        "np.min(x, axis=0)"
      ],
      "metadata": {
        "colab": {
          "base_uri": "https://localhost:8080/"
        },
        "id": "c2jueohH38cO",
        "outputId": "367d2c4c-a8f5-46eb-9057-a3c2e1f86cc3"
      },
      "execution_count": 46,
      "outputs": [
        {
          "output_type": "execute_result",
          "data": {
            "text/plain": [
              "array([ 2, 38,  3,  2, 11,  3,  4])"
            ]
          },
          "metadata": {},
          "execution_count": 46
        }
      ]
    },
    {
      "cell_type": "code",
      "source": [
        "# minimum value of each row\n",
        "np.min(x, axis=1)"
      ],
      "metadata": {
        "colab": {
          "base_uri": "https://localhost:8080/"
        },
        "id": "mJ8_WVw-4ELW",
        "outputId": "12e5ec7f-d2d3-414e-a2b0-119ccd74cb09"
      },
      "execution_count": 47,
      "outputs": [
        {
          "output_type": "execute_result",
          "data": {
            "text/plain": [
              "array([ 8, 15, 20,  2,  2,  4])"
            ]
          },
          "metadata": {},
          "execution_count": 47
        }
      ]
    },
    {
      "cell_type": "code",
      "source": [
        "# mean of each column\n",
        "np.mean(x, axis=0)"
      ],
      "metadata": {
        "colab": {
          "base_uri": "https://localhost:8080/"
        },
        "id": "KD6p9QyH4JpK",
        "outputId": "62d2fc98-2d10-4280-d446-dbb156843399"
      },
      "execution_count": 48,
      "outputs": [
        {
          "output_type": "execute_result",
          "data": {
            "text/plain": [
              "array([26.5       , 64.5       , 40.66666667, 40.5       , 28.5       ,\n",
              "       50.33333333, 38.33333333])"
            ]
          },
          "metadata": {},
          "execution_count": 48
        }
      ]
    },
    {
      "cell_type": "code",
      "source": [
        ""
      ],
      "metadata": {
        "id": "cKhEjh5u4OY6"
      },
      "execution_count": null,
      "outputs": []
    }
  ]
}