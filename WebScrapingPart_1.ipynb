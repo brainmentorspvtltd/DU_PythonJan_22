{
  "nbformat": 4,
  "nbformat_minor": 0,
  "metadata": {
    "colab": {
      "name": "WebScrapingPart_1.ipynb",
      "provenance": [],
      "collapsed_sections": []
    },
    "kernelspec": {
      "name": "python3",
      "display_name": "Python 3"
    },
    "language_info": {
      "name": "python"
    }
  },
  "cells": [
    {
      "cell_type": "code",
      "execution_count": null,
      "metadata": {
        "id": "4n2VsI4OwQUr"
      },
      "outputs": [],
      "source": [
        "import urllib.request as url\n",
        "import bs4"
      ]
    },
    {
      "cell_type": "code",
      "source": [
        "path = \"https://www.flipkart.com/search?q=iphone+12\"\n",
        "url.urlopen(path)"
      ],
      "metadata": {
        "colab": {
          "base_uri": "https://localhost:8080/"
        },
        "id": "P4rzAqFNwYs1",
        "outputId": "7385d003-c8af-46d3-93fd-3d52f59a44db"
      },
      "execution_count": null,
      "outputs": [
        {
          "output_type": "execute_result",
          "data": {
            "text/plain": [
              "<http.client.HTTPResponse at 0x7f66b6acf2d0>"
            ]
          },
          "metadata": {},
          "execution_count": 2
        }
      ]
    },
    {
      "cell_type": "code",
      "source": [
        "response = url.urlopen(path)"
      ],
      "metadata": {
        "id": "o8q_KWoTwjSd"
      },
      "execution_count": null,
      "outputs": []
    },
    {
      "cell_type": "code",
      "source": [
        "page = bs4.BeautifulSoup(response)"
      ],
      "metadata": {
        "id": "pvkkyR6cwqbG"
      },
      "execution_count": null,
      "outputs": []
    },
    {
      "cell_type": "code",
      "source": [
        "page.find('div', {\"class\" : \"_4rR01T\"})"
      ],
      "metadata": {
        "colab": {
          "base_uri": "https://localhost:8080/"
        },
        "id": "SBrWSjgow2tF",
        "outputId": "3a78cff8-d17d-48af-d7ed-614d2d8ee016"
      },
      "execution_count": null,
      "outputs": [
        {
          "output_type": "execute_result",
          "data": {
            "text/plain": [
              "<div class=\"_4rR01T\">APPLE iPhone 12 (Black, 64 GB)</div>"
            ]
          },
          "metadata": {},
          "execution_count": 5
        }
      ]
    },
    {
      "cell_type": "code",
      "source": [
        "title = page.find('div', {\"class\" : \"_4rR01T\"})"
      ],
      "metadata": {
        "id": "xOA917MuzbkS"
      },
      "execution_count": null,
      "outputs": []
    },
    {
      "cell_type": "code",
      "source": [
        "title.text"
      ],
      "metadata": {
        "colab": {
          "base_uri": "https://localhost:8080/",
          "height": 35
        },
        "id": "qFHeD-QwzffR",
        "outputId": "4800ca96-df89-4cb0-ac7a-7c67e77e5ba7"
      },
      "execution_count": null,
      "outputs": [
        {
          "output_type": "execute_result",
          "data": {
            "application/vnd.google.colaboratory.intrinsic+json": {
              "type": "string"
            },
            "text/plain": [
              "'APPLE iPhone 12 (Black, 64 GB)'"
            ]
          },
          "metadata": {},
          "execution_count": 7
        }
      ]
    },
    {
      "cell_type": "code",
      "source": [
        "price = page.find('div', {'class' : \"_30jeq3 _1_WHN1\"})"
      ],
      "metadata": {
        "id": "2FtJJQB5zitp"
      },
      "execution_count": null,
      "outputs": []
    },
    {
      "cell_type": "code",
      "source": [
        "price.text"
      ],
      "metadata": {
        "colab": {
          "base_uri": "https://localhost:8080/",
          "height": 35
        },
        "id": "Ans2UY24z0-W",
        "outputId": "3639204e-b3db-480b-bba3-9fc506ce8ae1"
      },
      "execution_count": null,
      "outputs": [
        {
          "output_type": "execute_result",
          "data": {
            "application/vnd.google.colaboratory.intrinsic+json": {
              "type": "string"
            },
            "text/plain": [
              "'₹60,499'"
            ]
          },
          "metadata": {},
          "execution_count": 9
        }
      ]
    },
    {
      "cell_type": "code",
      "source": [
        "titleList = page.find_all('div', {\"class\" : \"_4rR01T\"})"
      ],
      "metadata": {
        "id": "teJoJHT4z1yw"
      },
      "execution_count": null,
      "outputs": []
    },
    {
      "cell_type": "code",
      "source": [
        "len(titleList)"
      ],
      "metadata": {
        "colab": {
          "base_uri": "https://localhost:8080/"
        },
        "id": "VNo09qqu05G8",
        "outputId": "b2c6a87d-3590-483b-f9fe-b30e2fbbbeb5"
      },
      "execution_count": null,
      "outputs": [
        {
          "output_type": "execute_result",
          "data": {
            "text/plain": [
              "24"
            ]
          },
          "metadata": {},
          "execution_count": 11
        }
      ]
    },
    {
      "cell_type": "code",
      "source": [
        "priceList = page.find_all('div', {'class' : \"_30jeq3 _1_WHN1\"})"
      ],
      "metadata": {
        "id": "C65b3f9I06zz"
      },
      "execution_count": null,
      "outputs": []
    },
    {
      "cell_type": "code",
      "source": [
        "len(priceList)"
      ],
      "metadata": {
        "colab": {
          "base_uri": "https://localhost:8080/"
        },
        "id": "3B9-Ey1B1FjF",
        "outputId": "dfde7a4d-eee6-45a7-a004-b0818c788342"
      },
      "execution_count": null,
      "outputs": [
        {
          "output_type": "execute_result",
          "data": {
            "text/plain": [
              "24"
            ]
          },
          "metadata": {},
          "execution_count": 13
        }
      ]
    },
    {
      "cell_type": "code",
      "source": [
        "for i in range(len(titleList)):\n",
        "  print(titleList[i].text)\n",
        "  print(\"Price ::\", priceList[i].text)"
      ],
      "metadata": {
        "colab": {
          "base_uri": "https://localhost:8080/"
        },
        "id": "E7U5soJJ1Gxd",
        "outputId": "d9324eda-bd55-439f-d599-dab6e4534d0f"
      },
      "execution_count": null,
      "outputs": [
        {
          "output_type": "stream",
          "name": "stdout",
          "text": [
            "APPLE iPhone 12 (Black, 64 GB)\n",
            "Price :: ₹60,499\n",
            "APPLE iPhone 12 (Blue, 128 GB)\n",
            "Price :: ₹64,999\n",
            "APPLE iPhone 12 (White, 64 GB)\n",
            "Price :: ₹59,999\n",
            "APPLE iPhone 12 (Red, 128 GB)\n",
            "Price :: ₹64,999\n",
            "APPLE iPhone 12 (Blue, 64 GB)\n",
            "Price :: ₹60,499\n",
            "APPLE iPhone 12 (Black, 128 GB)\n",
            "Price :: ₹64,999\n",
            "APPLE iPhone 12 (Green, 64 GB)\n",
            "Price :: ₹60,499\n",
            "APPLE iPhone 12 (Black, 256 GB)\n",
            "Price :: ₹74,999\n",
            "APPLE iPhone 12 (White, 128 GB)\n",
            "Price :: ₹64,999\n",
            "APPLE iPhone 12 (Red, 64 GB)\n",
            "Price :: ₹59,999\n",
            "APPLE iPhone 12 (Green, 128 GB)\n",
            "Price :: ₹64,999\n",
            "APPLE iPhone 12 (Purple, 128 GB)\n",
            "Price :: ₹64,999\n",
            "APPLE iPhone SE (Red, 64 GB)\n",
            "Price :: ₹30,499\n",
            "APPLE iPhone 12 (Blue, 256 GB)\n",
            "Price :: ₹74,999\n",
            "APPLE iPhone 12 (Purple, 64 GB)\n",
            "Price :: ₹59,999\n",
            "APPLE iPhone 12 (Purple, 256 GB)\n",
            "Price :: ₹74,999\n",
            "APPLE iPhone 12 (Red, 256 GB)\n",
            "Price :: ₹74,999\n",
            "APPLE iPhone 12 (White, 256 GB)\n",
            "Price :: ₹74,999\n",
            "APPLE iPhone 12 (Green, 256 GB)\n",
            "Price :: ₹74,999\n",
            "APPLE iPhone 12 Mini (Black, 64 GB)\n",
            "Price :: ₹49,999\n",
            "APPLE iPhone 12 Mini (Blue, 64 GB)\n",
            "Price :: ₹49,999\n",
            "APPLE iPhone 12 Mini (Purple, 256 GB)\n",
            "Price :: ₹64,999\n",
            "APPLE iPhone 12 Mini (Black, 256 GB)\n",
            "Price :: ₹64,999\n",
            "APPLE iPhone 12 Mini (Red, 256 GB)\n",
            "Price :: ₹64,999\n"
          ]
        }
      ]
    },
    {
      "cell_type": "code",
      "source": [
        ""
      ],
      "metadata": {
        "id": "ROR5Fkmb1L01"
      },
      "execution_count": null,
      "outputs": []
    }
  ]
}