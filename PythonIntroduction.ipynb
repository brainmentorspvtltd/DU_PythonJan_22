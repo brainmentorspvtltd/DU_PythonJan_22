{
  "nbformat": 4,
  "nbformat_minor": 0,
  "metadata": {
    "colab": {
      "name": "PythonIntroduction.ipynb",
      "provenance": []
    },
    "kernelspec": {
      "name": "python3",
      "display_name": "Python 3"
    },
    "language_info": {
      "name": "python"
    }
  },
  "cells": [
    {
      "cell_type": "markdown",
      "source": [
        "Introduction to Python Programming"
      ],
      "metadata": {
        "id": "lsY4g1FVjnGw"
      }
    },
    {
      "cell_type": "code",
      "execution_count": null,
      "metadata": {
        "id": "A9f9sOMejB61"
      },
      "outputs": [],
      "source": [
        "x = 10\n",
        "y = 20\n",
        "z = x + y"
      ]
    },
    {
      "cell_type": "code",
      "source": [
        "x * y"
      ],
      "metadata": {
        "colab": {
          "base_uri": "https://localhost:8080/"
        },
        "id": "V1rhCkE5j4Kl",
        "outputId": "af2d5f5c-ce60-4e8c-a6ac-59849127740f"
      },
      "execution_count": null,
      "outputs": [
        {
          "output_type": "execute_result",
          "data": {
            "text/plain": [
              "200"
            ]
          },
          "metadata": {},
          "execution_count": 3
        }
      ]
    },
    {
      "cell_type": "code",
      "source": [
        "x - y"
      ],
      "metadata": {
        "colab": {
          "base_uri": "https://localhost:8080/"
        },
        "id": "4okHob81jwg-",
        "outputId": "07c638a0-8157-424c-bcc7-ee1523205dfa"
      },
      "execution_count": null,
      "outputs": [
        {
          "output_type": "execute_result",
          "data": {
            "text/plain": [
              "-10"
            ]
          },
          "metadata": {},
          "execution_count": 2
        }
      ]
    },
    {
      "cell_type": "code",
      "source": [
        "z = x + y\n",
        "print(\"Sum is\",z)"
      ],
      "metadata": {
        "colab": {
          "base_uri": "https://localhost:8080/"
        },
        "id": "wuBkJeX5j1XR",
        "outputId": "22a5843e-1396-4513-90e8-f25d0c5bada4"
      },
      "execution_count": null,
      "outputs": [
        {
          "output_type": "stream",
          "name": "stdout",
          "text": [
            "Sum is 30\n"
          ]
        }
      ]
    },
    {
      "cell_type": "code",
      "source": [
        "print(\"Sum is {}\".format(z))"
      ],
      "metadata": {
        "colab": {
          "base_uri": "https://localhost:8080/"
        },
        "id": "oL1PfW9TkGIL",
        "outputId": "16a2b871-bdda-4fbe-b16c-b5b1277edb75"
      },
      "execution_count": null,
      "outputs": [
        {
          "output_type": "stream",
          "name": "stdout",
          "text": [
            "Sum is 30\n"
          ]
        }
      ]
    },
    {
      "cell_type": "code",
      "source": [
        "print(\"Sum of {} and {} is {}\".format(x,y,z))"
      ],
      "metadata": {
        "colab": {
          "base_uri": "https://localhost:8080/"
        },
        "id": "ffm7lO-NkI8Y",
        "outputId": "840a1448-6d9b-4ecf-c002-bc0c693a5656"
      },
      "execution_count": null,
      "outputs": [
        {
          "output_type": "stream",
          "name": "stdout",
          "text": [
            "Sum of 10 and 20 is 30\n"
          ]
        }
      ]
    },
    {
      "cell_type": "code",
      "source": [
        "# f-strings\n",
        "print(f\"Sum of {x} and {y} is {z}\")"
      ],
      "metadata": {
        "colab": {
          "base_uri": "https://localhost:8080/"
        },
        "id": "dS0t-ywgkM-q",
        "outputId": "85b5892e-79c7-4463-9f59-ceff3033988f"
      },
      "execution_count": null,
      "outputs": [
        {
          "output_type": "stream",
          "name": "stdout",
          "text": [
            "Sum of 10 and 20 is 30\n"
          ]
        }
      ]
    },
    {
      "cell_type": "code",
      "source": [
        "name = input(\"Enter your name : \")"
      ],
      "metadata": {
        "colab": {
          "base_uri": "https://localhost:8080/"
        },
        "id": "AaLtMKBOk2Pu",
        "outputId": "d7e9f1f0-9f84-4985-b63d-dd26d41b1806"
      },
      "execution_count": null,
      "outputs": [
        {
          "name": "stdout",
          "output_type": "stream",
          "text": [
            "Enter your name : Ravi\n"
          ]
        }
      ]
    },
    {
      "cell_type": "code",
      "source": [
        "print(\"Hello\",name)"
      ],
      "metadata": {
        "colab": {
          "base_uri": "https://localhost:8080/"
        },
        "id": "8L6za7tPlGP5",
        "outputId": "998b6af2-e085-473f-f7b8-b553f547de29"
      },
      "execution_count": null,
      "outputs": [
        {
          "output_type": "stream",
          "name": "stdout",
          "text": [
            "Hello Ravi\n"
          ]
        }
      ]
    },
    {
      "cell_type": "code",
      "source": [
        "fnum = int(input(\"Enter first number : \"))\n",
        "snum = int(input(\"Enter second number : \"))\n",
        "result = fnum + snum\n",
        "print(\"Sum is\",result)"
      ],
      "metadata": {
        "colab": {
          "base_uri": "https://localhost:8080/"
        },
        "id": "kEzawKJHlKTU",
        "outputId": "c190d3ed-16a3-4a29-86f8-cd13b56f1c18"
      },
      "execution_count": null,
      "outputs": [
        {
          "output_type": "stream",
          "name": "stdout",
          "text": [
            "Enter first number : 34\n",
            "Enter second number : 33\n",
            "Sum is 67\n"
          ]
        }
      ]
    },
    {
      "cell_type": "code",
      "source": [
        "'hello' + \" \" + 'world'"
      ],
      "metadata": {
        "colab": {
          "base_uri": "https://localhost:8080/",
          "height": 35
        },
        "id": "QkezlyjdlUp4",
        "outputId": "710043dc-6a6c-46c1-ca61-3aa093f6d6d2"
      },
      "execution_count": null,
      "outputs": [
        {
          "output_type": "execute_result",
          "data": {
            "application/vnd.google.colaboratory.intrinsic+json": {
              "type": "string"
            },
            "text/plain": [
              "'hello world'"
            ]
          },
          "metadata": {},
          "execution_count": 13
        }
      ]
    },
    {
      "cell_type": "code",
      "source": [
        "fnum"
      ],
      "metadata": {
        "colab": {
          "base_uri": "https://localhost:8080/"
        },
        "id": "UH-qgCV0ldVQ",
        "outputId": "f361fd9b-d5bd-4fc8-ae31-35b8306ec9b3"
      },
      "execution_count": null,
      "outputs": [
        {
          "output_type": "execute_result",
          "data": {
            "text/plain": [
              "34"
            ]
          },
          "metadata": {},
          "execution_count": 17
        }
      ]
    },
    {
      "cell_type": "code",
      "source": [
        "type(fnum)"
      ],
      "metadata": {
        "colab": {
          "base_uri": "https://localhost:8080/"
        },
        "id": "XJh6XdR8lhTa",
        "outputId": "80df0a28-acb1-476c-d30a-41a23d278db6"
      },
      "execution_count": null,
      "outputs": [
        {
          "output_type": "execute_result",
          "data": {
            "text/plain": [
              "int"
            ]
          },
          "metadata": {},
          "execution_count": 18
        }
      ]
    },
    {
      "cell_type": "markdown",
      "source": [
        "Loops\n",
        "- for\n",
        "- while"
      ],
      "metadata": {
        "id": "yuGV4Zu_qLcY"
      }
    },
    {
      "cell_type": "code",
      "source": [
        "# for(int i = 0; i < 10; i++) {\n",
        "#     Logic\n",
        "# }\n",
        "\n",
        "# start = 0\n",
        "# stop  = 8\n",
        "# step  = +1\n",
        "for i in range(9):\n",
        "  print(i)"
      ],
      "metadata": {
        "colab": {
          "base_uri": "https://localhost:8080/"
        },
        "id": "-LcLXKE5lkjN",
        "outputId": "f098004d-7477-4c08-cb6d-34e861949077"
      },
      "execution_count": null,
      "outputs": [
        {
          "output_type": "stream",
          "name": "stdout",
          "text": [
            "0\n",
            "1\n",
            "2\n",
            "3\n",
            "4\n",
            "5\n",
            "6\n",
            "7\n",
            "8\n"
          ]
        }
      ]
    },
    {
      "cell_type": "code",
      "source": [
        "# start = 1\n",
        "# stop  = 10\n",
        "# step  = +1\n",
        "for i in range(1,11):\n",
        "  print(i)"
      ],
      "metadata": {
        "colab": {
          "base_uri": "https://localhost:8080/"
        },
        "id": "D2GODqpmrZIS",
        "outputId": "7e807102-014b-4fa0-de4d-8b6521456bb4"
      },
      "execution_count": null,
      "outputs": [
        {
          "output_type": "stream",
          "name": "stdout",
          "text": [
            "1\n",
            "2\n",
            "3\n",
            "4\n",
            "5\n",
            "6\n",
            "7\n",
            "8\n",
            "9\n",
            "10\n"
          ]
        }
      ]
    },
    {
      "cell_type": "code",
      "source": [
        "# start = 2\n",
        "# stop  = 20\n",
        "# step  = +2\n",
        "for i in range(2,21,2):\n",
        "  print(i)"
      ],
      "metadata": {
        "colab": {
          "base_uri": "https://localhost:8080/"
        },
        "id": "TiyyBfM_rh26",
        "outputId": "17d57875-8e38-44f7-d7ce-8481ee1c3a12"
      },
      "execution_count": null,
      "outputs": [
        {
          "output_type": "stream",
          "name": "stdout",
          "text": [
            "2\n",
            "4\n",
            "6\n",
            "8\n",
            "10\n",
            "12\n",
            "14\n",
            "16\n",
            "18\n",
            "20\n"
          ]
        }
      ]
    },
    {
      "cell_type": "code",
      "source": [
        "'hello' * 5"
      ],
      "metadata": {
        "colab": {
          "base_uri": "https://localhost:8080/",
          "height": 35
        },
        "id": "M8eGQXNHsOhu",
        "outputId": "0dc441e3-90e0-4a57-c4f0-3022dd5f8cd5"
      },
      "execution_count": null,
      "outputs": [
        {
          "output_type": "execute_result",
          "data": {
            "application/vnd.google.colaboratory.intrinsic+json": {
              "type": "string"
            },
            "text/plain": [
              "'hellohellohellohellohello'"
            ]
          },
          "metadata": {},
          "execution_count": 22
        }
      ]
    },
    {
      "cell_type": "code",
      "source": [
        "'''\n",
        "*\n",
        "**\n",
        "***\n",
        "****\n",
        "*****\n",
        "'''\n",
        "\n",
        "for i in range(1,6):print(i * '*')"
      ],
      "metadata": {
        "colab": {
          "base_uri": "https://localhost:8080/"
        },
        "id": "lnjyMVHarmIN",
        "outputId": "9189c972-bb95-4a12-b75b-9b47e7a06232"
      },
      "execution_count": null,
      "outputs": [
        {
          "output_type": "stream",
          "name": "stdout",
          "text": [
            "*\n",
            "**\n",
            "***\n",
            "****\n",
            "*****\n"
          ]
        }
      ]
    },
    {
      "cell_type": "code",
      "source": [
        "'''\n",
        "   *\n",
        "  ***\n",
        " *****\n",
        "*******\n",
        "'''\n",
        "for i in range(10):\n",
        "  print(' ' * (10 - i) + '*' * (2*i - 1))\n"
      ],
      "metadata": {
        "colab": {
          "base_uri": "https://localhost:8080/"
        },
        "id": "K9gylEKjsi3B",
        "outputId": "7cd61107-cb7f-4cff-e465-8416f30ce317"
      },
      "execution_count": null,
      "outputs": [
        {
          "output_type": "stream",
          "name": "stdout",
          "text": [
            "          \n",
            "         *\n",
            "        ***\n",
            "       *****\n",
            "      *******\n",
            "     *********\n",
            "    ***********\n",
            "   *************\n",
            "  ***************\n",
            " *****************\n"
          ]
        }
      ]
    },
    {
      "cell_type": "code",
      "source": [
        "x = 10\n",
        "while x > 0:\n",
        "  print(x)\n",
        "  x -= 1"
      ],
      "metadata": {
        "colab": {
          "base_uri": "https://localhost:8080/"
        },
        "id": "2LZFM-dWtKij",
        "outputId": "01e2bd89-4685-46bf-cb96-622a6b5b48c5"
      },
      "execution_count": null,
      "outputs": [
        {
          "output_type": "stream",
          "name": "stdout",
          "text": [
            "10\n",
            "9\n",
            "8\n",
            "7\n",
            "6\n",
            "5\n",
            "4\n",
            "3\n",
            "2\n",
            "1\n"
          ]
        }
      ]
    },
    {
      "cell_type": "code",
      "source": [
        "# Guess the number\n",
        "import random\n",
        "\n",
        "random.randint(1,100)"
      ],
      "metadata": {
        "colab": {
          "base_uri": "https://localhost:8080/"
        },
        "id": "cTww9hKiuRtn",
        "outputId": "03b14011-cfe8-414b-f0c4-7c3c0457be0a"
      },
      "execution_count": null,
      "outputs": [
        {
          "output_type": "execute_result",
          "data": {
            "text/plain": [
              "97"
            ]
          },
          "metadata": {},
          "execution_count": 29
        }
      ]
    },
    {
      "cell_type": "code",
      "source": [
        "random.randint(1,100)"
      ],
      "metadata": {
        "colab": {
          "base_uri": "https://localhost:8080/"
        },
        "id": "fWNM5D0fuh0-",
        "outputId": "27d941ad-e763-4b8b-d330-3ee0de887ee3"
      },
      "execution_count": null,
      "outputs": [
        {
          "output_type": "execute_result",
          "data": {
            "text/plain": [
              "20"
            ]
          },
          "metadata": {},
          "execution_count": 30
        }
      ]
    },
    {
      "cell_type": "code",
      "source": [
        "cpu = random.randint(1,100)\n",
        "\n",
        "game = True\n",
        "while game:\n",
        "  guess = int(input(\"Enter your guess : \"))\n",
        "\n",
        "  if cpu == guess:\n",
        "    print(\"Congrats, You have guessed the number...\")\n",
        "    game = False\n",
        "    break\n",
        "  elif cpu > guess:\n",
        "    print(\"You have guessed a smaller number...\")\n",
        "  elif cpu < guess:\n",
        "    print(\"You have guessed a larger number...\")"
      ],
      "metadata": {
        "colab": {
          "base_uri": "https://localhost:8080/"
        },
        "id": "Ob9nuoohukW4",
        "outputId": "e793b6d6-bec8-4d02-dc40-84395ba23b7f"
      },
      "execution_count": null,
      "outputs": [
        {
          "output_type": "stream",
          "name": "stdout",
          "text": [
            "Enter your guess : 45\n",
            "You have guessed a larger number...\n",
            "Enter your guess : 30\n",
            "You have guessed a smaller number...\n",
            "Enter your guess : 40\n",
            "You have guessed a larger number...\n",
            "Enter your guess : 41\n",
            "You have guessed a larger number...\n",
            "Enter your guess : 42\n",
            "You have guessed a larger number...\n",
            "Enter your guess : 44\n",
            "You have guessed a larger number...\n",
            "Enter your guess : 43\n",
            "You have guessed a larger number...\n",
            "Enter your guess : 45\n",
            "You have guessed a larger number...\n",
            "Enter your guess : 31\n",
            "You have guessed a smaller number...\n",
            "Enter your guess : 35\n",
            "You have guessed a larger number...\n",
            "Enter your guess : 32\n",
            "Congrats, You have guessed the number...\n"
          ]
        }
      ]
    },
    {
      "cell_type": "code",
      "source": [
        "cpu"
      ],
      "metadata": {
        "colab": {
          "base_uri": "https://localhost:8080/"
        },
        "id": "342mEWeEu8BU",
        "outputId": "9942d92f-2744-490f-ebc5-120aef78ec2c"
      },
      "execution_count": null,
      "outputs": [
        {
          "output_type": "execute_result",
          "data": {
            "text/plain": [
              "70"
            ]
          },
          "metadata": {},
          "execution_count": 34
        }
      ]
    },
    {
      "cell_type": "code",
      "source": [
        ""
      ],
      "metadata": {
        "id": "MKUvXhtru-9Q"
      },
      "execution_count": null,
      "outputs": []
    }
  ]
}