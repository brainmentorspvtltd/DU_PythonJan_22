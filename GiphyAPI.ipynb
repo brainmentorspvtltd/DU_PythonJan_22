{
  "nbformat": 4,
  "nbformat_minor": 0,
  "metadata": {
    "colab": {
      "name": "GiphyAPI.ipynb",
      "provenance": [],
      "collapsed_sections": []
    },
    "kernelspec": {
      "name": "python3",
      "display_name": "Python 3"
    },
    "language_info": {
      "name": "python"
    }
  },
  "cells": [
    {
      "cell_type": "code",
      "execution_count": 12,
      "metadata": {
        "id": "k9O-0x81p878"
      },
      "outputs": [],
      "source": [
        "import urllib.request as url\n",
        "import json"
      ]
    },
    {
      "cell_type": "code",
      "source": [
        "import json\n",
        "from urllib import parse, request\n",
        "\n",
        "url = \"http://api.giphy.com/v1/gifs/search\"\n",
        "\n",
        "params = parse.urlencode({\n",
        "  \"q\": \"tom and jerry\",\n",
        "  \"api_key\": \"1gPMgQWU9fDU9PPHW2Kr917sPJlo3n2g\",\n",
        "  \"limit\": \"5\"\n",
        "})\n",
        "\n",
        "with request.urlopen(\"\".join((url, \"?\", params))) as response:\n",
        "  data = json.loads(response.read())\n",
        "\n",
        "# print(json.dumps(data, sort_keys=True, indent=4))"
      ],
      "metadata": {
        "id": "0k1CFxW5tdnV"
      },
      "execution_count": 15,
      "outputs": []
    },
    {
      "cell_type": "code",
      "source": [
        "data.keys()"
      ],
      "metadata": {
        "colab": {
          "base_uri": "https://localhost:8080/"
        },
        "id": "NTSq2KuOtj9D",
        "outputId": "a056c622-fdfe-47ac-8115-5e605fa28fb4"
      },
      "execution_count": 16,
      "outputs": [
        {
          "output_type": "execute_result",
          "data": {
            "text/plain": [
              "dict_keys(['data', 'pagination', 'meta'])"
            ]
          },
          "metadata": {},
          "execution_count": 16
        }
      ]
    },
    {
      "cell_type": "code",
      "source": [
        "data = data['data']"
      ],
      "metadata": {
        "id": "BHXctshVt4i6"
      },
      "execution_count": 17,
      "outputs": []
    },
    {
      "cell_type": "code",
      "source": [
        "type(data)"
      ],
      "metadata": {
        "colab": {
          "base_uri": "https://localhost:8080/"
        },
        "id": "91qccqOdt7ze",
        "outputId": "50f05bc0-ad73-4ab3-aea0-32a9d2b35780"
      },
      "execution_count": 18,
      "outputs": [
        {
          "output_type": "execute_result",
          "data": {
            "text/plain": [
              "list"
            ]
          },
          "metadata": {},
          "execution_count": 18
        }
      ]
    },
    {
      "cell_type": "code",
      "source": [
        "data[0]['images']['downsized_medium']['url']"
      ],
      "metadata": {
        "colab": {
          "base_uri": "https://localhost:8080/",
          "height": 35
        },
        "id": "4hwS4Dy-t8_u",
        "outputId": "32a9bb90-8159-40a5-bc36-d18f72aef1c9"
      },
      "execution_count": 19,
      "outputs": [
        {
          "output_type": "execute_result",
          "data": {
            "application/vnd.google.colaboratory.intrinsic+json": {
              "type": "string"
            },
            "text/plain": [
              "'https://media2.giphy.com/media/6BZaFXBVPBtok/giphy.gif?cid=96239065zdohpqnc4q1aqqhaoe2li1e0a0n8xg9joptfin3s&rid=giphy.gif&ct=g'"
            ]
          },
          "metadata": {},
          "execution_count": 19
        }
      ]
    },
    {
      "cell_type": "code",
      "source": [
        "path = data[1]['images']['downsized_medium']['url']\n",
        "request.urlretrieve(path, 'img_1.gif')"
      ],
      "metadata": {
        "colab": {
          "base_uri": "https://localhost:8080/"
        },
        "id": "YVh1len9t-SY",
        "outputId": "6b5732af-7abe-424d-9166-c94ad5788460"
      },
      "execution_count": 21,
      "outputs": [
        {
          "output_type": "execute_result",
          "data": {
            "text/plain": [
              "('img_1.gif', <http.client.HTTPMessage at 0x7f9751ddefd0>)"
            ]
          },
          "metadata": {},
          "execution_count": 21
        }
      ]
    },
    {
      "cell_type": "code",
      "source": [
        ""
      ],
      "metadata": {
        "id": "wHIA2CmiuT9z"
      },
      "execution_count": null,
      "outputs": []
    }
  ]
}